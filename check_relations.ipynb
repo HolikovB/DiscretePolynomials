{
 "cells": [
  {
   "cell_type": "code",
   "execution_count": 2,
   "id": "030f340a",
   "metadata": {},
   "outputs": [],
   "source": [
    "import numpy as np"
   ]
  },
  {
   "cell_type": "code",
   "execution_count": 3,
   "id": "940f4564",
   "metadata": {},
   "outputs": [],
   "source": [
    "def derivate(arr,matrix):\n",
    "    for i in arr:\n",
    "        if i <= 0:\n",
    "            matrix = np.roll(matrix, shift=i-1, axis=0)-matrix\n",
    "        else:\n",
    "            matrix = np.roll(matrix, shift=-i, axis=1)-matrix\n",
    "    return matrix"
   ]
  },
  {
   "cell_type": "code",
   "execution_count": 4,
   "id": "773933ed",
   "metadata": {},
   "outputs": [],
   "source": [
    "k=4\n",
    "A = [[0, 0, 0, 0],\n",
    "     [0, 0, 0, 0],\n",
    "     [0, 0, 0, 0],\n",
    "     [0, 0, 0, 1]\n",
    "     ]"
   ]
  },
  {
   "cell_type": "code",
   "execution_count": 5,
   "id": "098e420b",
   "metadata": {},
   "outputs": [
    {
     "name": "stdout",
     "output_type": "stream",
     "text": [
      "[[ 0  0  0  0]\n",
      " [ 0  0  2 -2]\n",
      " [ 0 -2  0  2]\n",
      " [ 0  2 -2  0]]\n"
     ]
    }
   ],
   "source": [
    "d1 = [1,0,0]\n",
    "d2 = [1,1,0]\n",
    "\n",
    "r1 = derivate(d1,A)\n",
    "r2 = derivate(d2,A)\n",
    "relation1 = 2*(r1-r2)\n",
    "print(relation1)"
   ]
  },
  {
   "cell_type": "code",
   "execution_count": 6,
   "id": "1308fe11",
   "metadata": {},
   "outputs": [
    {
     "name": "stdout",
     "output_type": "stream",
     "text": [
      "[[ 0  4 -8  4]\n",
      " [-4  0  8 -4]\n",
      " [ 8 -8  0  0]\n",
      " [-4  4  0  0]]\n"
     ]
    }
   ],
   "source": [
    "d1 = [1,1,1,1,0,0]\n",
    "d2 = [1,1,0,0,0,0]\n",
    "\n",
    "r1 = derivate(d1,A)\n",
    "r2 = derivate(d2,A)\n",
    "relation2 = r1-r2\n",
    "print(relation2)"
   ]
  },
  {
   "cell_type": "code",
   "execution_count": 9,
   "id": "c2af39cb",
   "metadata": {},
   "outputs": [
    {
     "name": "stdout",
     "output_type": "stream",
     "text": [
      "126\n"
     ]
    }
   ],
   "source": [
    "from itertools import combinations_with_replacement\n",
    "\n",
    "vals = [3, 2, 1, 0, -1, -2]\n",
    "DERS = [list(reversed(c))                 # make them nonincreasing\n",
    "        for c in combinations_with_replacement(sorted(vals), 4)]\n",
    "print(len(DERS))\n",
    "mats = []\n",
    "for der in DERS:\n",
    "    mats.append(derivate(der,A))\n",
    "\n",
    "\n",
    "\n"
   ]
  },
  {
   "cell_type": "code",
   "execution_count": 10,
   "id": "c601b855",
   "metadata": {},
   "outputs": [
    {
     "name": "stdout",
     "output_type": "stream",
     "text": [
      "NO\n"
     ]
    }
   ],
   "source": [
    "from sympy import Matrix, linsolve\n",
    "\n",
    "A = Matrix(relation1)\n",
    "\n",
    "Ms = [Matrix(M) for M in mats]\n",
    "\n",
    "B = Matrix.hstack(*[M.reshape(16, 1) for M in Ms])\n",
    "b = A.reshape(16, 1)\n",
    "\n",
    "solset = linsolve((B, b))\n",
    "sol = next(iter(solset), None)\n",
    "\n",
    "if sol is not None and all(s.is_integer is True for s in sol):\n",
    "    print(\"YES:\", [int(s) for s in sol])\n",
    "else:\n",
    "    print(\"NO\")\n"
   ]
  }
 ],
 "metadata": {
  "kernelspec": {
   "display_name": ".venv (3.13.2)",
   "language": "python",
   "name": "python3"
  },
  "language_info": {
   "codemirror_mode": {
    "name": "ipython",
    "version": 3
   },
   "file_extension": ".py",
   "mimetype": "text/x-python",
   "name": "python",
   "nbconvert_exporter": "python",
   "pygments_lexer": "ipython3",
   "version": "3.13.2"
  }
 },
 "nbformat": 4,
 "nbformat_minor": 5
}
