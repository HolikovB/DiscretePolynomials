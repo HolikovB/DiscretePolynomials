{
 "cells": [
  {
   "cell_type": "code",
   "execution_count": 1,
   "id": "3258af7a",
   "metadata": {},
   "outputs": [],
   "source": [
    "from fractions import Fraction\n",
    "from math import comb\n",
    "from itertools import product\n",
    "\n",
    "from discpoly.group import DirectSumGroup, CyclicGroup\n",
    "from discpoly.discpoly import PolynomialFunction"
   ]
  },
  {
   "cell_type": "code",
   "execution_count": 3,
   "id": "cb587316",
   "metadata": {},
   "outputs": [],
   "source": [
    "G = CyclicGroup(4)\n",
    "elements = G.elements()"
   ]
  },
  {
   "cell_type": "code",
   "execution_count": 83,
   "id": "5c20611f",
   "metadata": {},
   "outputs": [
    {
     "name": "stdout",
     "output_type": "stream",
     "text": [
      "PolynomialFunction values (mod 1):\n",
      "  f(0) = 0\n",
      "  f(1) = 1/4\n",
      "  f(2) = 1/2\n",
      "  f(3) = 3/4\n",
      "True\n",
      "PolynomialFunction values (mod 1):\n",
      "  f(0) = 1/4\n",
      "  f(1) = 1/4\n",
      "  f(2) = 1/4\n",
      "  f(3) = 1/4\n"
     ]
    }
   ],
   "source": [
    "vars = {}\n",
    "for x in elements:\n",
    "    vars[x] = Fraction(x,4)\n",
    "func = PolynomialFunction(G,vars)\n",
    "func.explain()\n",
    "print(func.degree_leq(1))\n",
    "func = func.iterated_difference([1])\n",
    "func.explain()\n"
   ]
  }
 ],
 "metadata": {
  "kernelspec": {
   "display_name": ".venv",
   "language": "python",
   "name": "python3"
  },
  "language_info": {
   "codemirror_mode": {
    "name": "ipython",
    "version": 3
   },
   "file_extension": ".py",
   "mimetype": "text/x-python",
   "name": "python",
   "nbconvert_exporter": "python",
   "pygments_lexer": "ipython3",
   "version": "3.13.2"
  }
 },
 "nbformat": 4,
 "nbformat_minor": 5
}
