{
 "cells": [
  {
   "cell_type": "code",
   "execution_count": 1,
   "id": "0ac004ea",
   "metadata": {},
   "outputs": [],
   "source": [
    "from fractions import Fraction\n",
    "from math import comb\n",
    "from itertools import product\n",
    "\n",
    "from discpoly.group import DirectSumGroup\n",
    "from discpoly.discpoly import PolynomialFunction"
   ]
  },
  {
   "cell_type": "code",
   "execution_count": null,
   "id": "677b371f",
   "metadata": {},
   "outputs": [],
   "source": [
    "G = DirectSumGroup([4, 4]) #defines Z/4ZxZ/4Z\n",
    "elements = G.elements()  # list of all 16 elements (tuples (x1,x2))"
   ]
  },
  {
   "cell_type": "code",
   "execution_count": null,
   "id": "a505584c",
   "metadata": {},
   "outputs": [
    {
     "name": "stdout",
     "output_type": "stream",
     "text": [
      "PolynomialFunction values (mod 1):\n",
      "  f((0, 0)) = 0\n",
      "  f((1, 0)) = 0\n",
      "  f((2, 0)) = 0\n",
      "  f((3, 0)) = 0\n",
      "  f((0, 1)) = 0\n",
      "  f((1, 1)) = 1/8\n",
      "  f((2, 1)) = 1/4\n",
      "  f((3, 1)) = 3/8\n",
      "  f((0, 2)) = 0\n",
      "  f((1, 2)) = 1/4\n",
      "  f((2, 2)) = 1/2\n",
      "  f((3, 2)) = 3/4\n",
      "  f((0, 3)) = 0\n",
      "  f((1, 3)) = 3/8\n",
      "  f((2, 3)) = 3/4\n",
      "  f((3, 3)) = 1/8\n"
     ]
    },
    {
     "data": {
      "text/plain": [
       "False"
      ]
     },
     "execution_count": 16,
     "metadata": {},
     "output_type": "execute_result"
    }
   ],
   "source": [
    "vals = {}\n",
    "for (x1, x2) in G.elements():\n",
    "    vals[(x1, x2)] = Fraction(x1*x2,8)  # defines a function f(x,y) = xy/8\n",
    "func = PolynomialFunction(G,vals,use_fraction=True)\n",
    "func.explain() #prints the function\n",
    "func.degree_leq(4) #checks whether the function is polynomial of degree 4"
   ]
  }
 ],
 "metadata": {
  "kernelspec": {
   "display_name": ".venv",
   "language": "python",
   "name": "python3"
  },
  "language_info": {
   "codemirror_mode": {
    "name": "ipython",
    "version": 3
   },
   "file_extension": ".py",
   "mimetype": "text/x-python",
   "name": "python",
   "nbconvert_exporter": "python",
   "pygments_lexer": "ipython3",
   "version": "3.13.2"
  }
 },
 "nbformat": 4,
 "nbformat_minor": 5
}
